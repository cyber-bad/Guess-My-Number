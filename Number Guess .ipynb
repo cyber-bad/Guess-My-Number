{
 "cells": [
  {
   "cell_type": "code",
   "execution_count": 1,
   "metadata": {},
   "outputs": [],
   "source": [
    "import random as ran"
   ]
  },
  {
   "cell_type": "code",
   "execution_count": 2,
   "metadata": {},
   "outputs": [
    {
     "name": "stdout",
     "output_type": "stream",
     "text": [
      "What is Your Name\n"
     ]
    }
   ],
   "source": [
    "print(\"What is Your Name\")"
   ]
  },
  {
   "cell_type": "code",
   "execution_count": 5,
   "metadata": {},
   "outputs": [
    {
     "name": "stdout",
     "output_type": "stream",
     "text": [
      "Akshay\n"
     ]
    }
   ],
   "source": [
    "name = input()"
   ]
  },
  {
   "cell_type": "code",
   "execution_count": 8,
   "metadata": {},
   "outputs": [
    {
     "name": "stdout",
     "output_type": "stream",
     "text": [
      "well Akshay I'am thinking a Number Between 0 to 10\n"
     ]
    }
   ],
   "source": [
    "print(\"well \" +name+  \" I'am thinking a Number Between 0 to 10\")"
   ]
  },
  {
   "cell_type": "code",
   "execution_count": 12,
   "metadata": {},
   "outputs": [],
   "source": [
    "secreatenum = ran.randint(0,10)"
   ]
  },
  {
   "cell_type": "code",
   "execution_count": 25,
   "metadata": {},
   "outputs": [
    {
     "name": "stdout",
     "output_type": "stream",
     "text": [
      "Take a Guess\n",
      "5\n",
      "Greate Job Akshay\n"
     ]
    }
   ],
   "source": [
    "for guesstaken in range(1,5):\n",
    "    \n",
    "    print('Take a Guess')\n",
    "    guess = int(input())\n",
    "    \n",
    "    if guess < secreatenum:\n",
    "        print(\"Bada Socho\")\n",
    "    elif guess> secreatenum:\n",
    "        print(\"Thoda socho\")\n",
    "    else:\n",
    "        print(\"Greate Job \" +name)\n",
    "        break"
   ]
  },
  {
   "cell_type": "code",
   "execution_count": null,
   "metadata": {},
   "outputs": [],
   "source": []
  }
 ],
 "metadata": {
  "kernelspec": {
   "display_name": "Python 3",
   "language": "python",
   "name": "python3"
  },
  "language_info": {
   "codemirror_mode": {
    "name": "ipython",
    "version": 3
   },
   "file_extension": ".py",
   "mimetype": "text/x-python",
   "name": "python",
   "nbconvert_exporter": "python",
   "pygments_lexer": "ipython3",
   "version": "3.7.4"
  }
 },
 "nbformat": 4,
 "nbformat_minor": 2
}
